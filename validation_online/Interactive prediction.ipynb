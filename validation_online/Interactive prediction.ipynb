{
 "cells": [
  {
   "cell_type": "markdown",
   "metadata": {},
   "source": [
    "# NAT-ML"
   ]
  },
  {
   "cell_type": "markdown",
   "metadata": {},
   "source": [
    "### ML prediction of response to neoadjuvant breast cancer therapy\n",
    "\n",
    "This interactive dashboard is designed to apply the fully-integrated NAT response model on new data. \n",
    "\n",
    "The prediction is updated in real time when you modify any of the features."
   ]
  },
  {
   "cell_type": "code",
   "execution_count": 1,
   "metadata": {},
   "outputs": [],
   "source": [
    "%load_ext autoreload\n",
    "%autoreload 2"
   ]
  },
  {
   "cell_type": "code",
   "execution_count": 2,
   "metadata": {},
   "outputs": [],
   "source": [
    "from run_model import plotInteractiveHistogram\n",
    "import matplotlib.pyplot as plt\n",
    "from ipywidgets import interact_manual, interactive_output, interactive\n",
    "import ipywidgets as widgets"
   ]
  },
  {
   "cell_type": "code",
   "execution_count": 3,
   "metadata": {},
   "outputs": [],
   "source": [
    "data = {}\n",
    "data[  'Age.at.diagnosis'            ] = widgets.IntSlider(value=48, min=0, max=120, continuous_update=False)\n",
    "data[  'Histology'                   ] = widgets.Dropdown(options=['Invasive ductal carcinoma', 'Other'],value='Invasive ductal carcinoma', continuous_update=False)\n",
    "data[  'ER.status'                   ] = widgets.ToggleButtons(options=['Positive','Negative'], value='Positive', continuous_update=False)\n",
    "data[  'HER2.status'                   ] = widgets.ToggleButtons(options=['Positive','Negative'], value='Negative', continuous_update=False)\n",
    "data[  'LN.at.diagnosis'             ] = widgets.ToggleButtons(options=['Yes','No'], value='Yes', continuous_update=False)\n",
    "data[  'Grade.pre.chemotherapy'      ] = widgets.IntSlider(value=2, min=0, max=4, continuous_update=False)\n",
    "data[  'Size.at.diagnosis'      ] = widgets.FloatSlider(value=21, min=0, max=200, step=0.1, continuous_update=False)\n",
    "data[  'All.TMB'                     ] = widgets.IntSlider(value=24, min=0, max=1000, continuous_update=False)\n",
    "data[  'Coding.TMB'                     ] = widgets.IntSlider(value=14, min=0, max=1000, continuous_update=False)\n",
    "data[  'Expressed.NAg'               ] = widgets.IntSlider(value=2, min=0, max=200, continuous_update=False)\n",
    "data[  'CodingMuts.PIK3CA'             ] = widgets.ToggleButtons(options=['Yes','No'], value='No', continuous_update=False)\n",
    "data[  'CodingMuts.TP53'             ] = widgets.ToggleButtons(options=['Yes','No'], value='No', continuous_update=False)\n",
    "data[  'CIN.Prop'                    ] = widgets.FloatSlider(value=0.277264442, min=0, max=1, step=0.01, continuous_update=False)\n",
    "data[  'HLA.LOH'             ] = widgets.ToggleButtons(options=['Yes','No'], value='No', continuous_update=False)\n",
    "data[  'HRD.sum'                     ] = widgets.IntSlider(value=21, min=0, max=100, continuous_update=False)\n",
    "data[  'STAT1.ssgsea.notnorm'        ] = widgets.IntSlider(value=17411, min=10000, max=50000, continuous_update=False)\n",
    "data[  'GGI.ssgsea.notnorm'        ] = widgets.IntSlider(value=21227, min=10000, max=50000, continuous_update=False)\n",
    "data[  'ESC.ssgsea.notnorm'        ] = widgets.IntSlider(value=23874, min=10000, max=50000, continuous_update=False)\n",
    "data[  'PGR.log2.tpm'                    ] = widgets.FloatSlider(value=4.09, min=-10, max=10, step=0.01, continuous_update=False)\n",
    "data[  'ESR1.log2.tpm'                    ] = widgets.FloatSlider(value=5.86, min=-10, max=10, step=0.01, continuous_update=False)\n",
    "data[  'ERBB2.log2.tpm'                    ] = widgets.FloatSlider(value=6.23, min=-10, max=10, step=0.01, continuous_update=False)\n",
    "data[  'CytScore.log2'                    ] = widgets.FloatSlider(value=1.419, min=-10, max=10, step=0.01, continuous_update=False)\n",
    "data[  'Swanton.PaclitaxelScore'                    ] = widgets.FloatSlider(value=-2.0957, min=-10, max=10, step=0.01, continuous_update=False)\n",
    "data[  'TIDE.Dysfunction'                    ] = widgets.FloatSlider(value=-0.86, min=-5, max=5, step=0.01, continuous_update=False)\n",
    "data[  'TIDE.Exclusion'                    ] = widgets.FloatSlider(value=0.73, min=-5, max=5, step=0.01, continuous_update=False)\n",
    "data[  'Danaher.Mast.cells'                    ] = widgets.FloatSlider(value=4.694, min=-10, max=10, step=0.01, continuous_update=False)\n",
    "data[  'median_lymph_KDE_knn_50'                    ] = widgets.FloatSlider(value=-3.767925, min=-10, max=10, step=0.01, continuous_update=False)\n",
    "data[  'Chemo.NumCycles'             ] = widgets.IntSlider(value=0, min=0, max=10, continuous_update=False)\n",
    "data[  'Chemo.first.Taxane'          ] = widgets.ToggleButtons(options=['Yes','No'], value='No', continuous_update=False)\n",
    "data[  'Chemo.first.Anthracycline'          ] = widgets.ToggleButtons(options=['Yes','No'], value='No', continuous_update=False)\n",
    "data[  'Chemo.second.Taxane'          ] = widgets.ToggleButtons(options=['Yes','No'], value='No', continuous_update=False)\n",
    "data[  'Chemo.second.Anthracycline'          ] = widgets.ToggleButtons(options=['Yes','No'], value='No', continuous_update=False)\n",
    "data[  'Chemo.any.antiHER2'     ] = widgets.ToggleButtons(options=['Yes','No'], value='No', continuous_update=False)\n",
    "data[  'Chemo.any.Anthracycline'     ] = widgets.ToggleButtons(options=['Yes','No'], value='No', continuous_update=False)"
   ]
  },
  {
   "cell_type": "code",
   "execution_count": 4,
   "metadata": {},
   "outputs": [],
   "source": [
    "#_ = interact_manual(plotInteractiveHistogram, **data)\n",
    "ww = interactive_output(plotInteractiveHistogram, data)"
   ]
  },
  {
   "cell_type": "code",
   "execution_count": 5,
   "metadata": {},
   "outputs": [],
   "source": [
    "from ipywidgets import HBox, VBox, Label\n",
    "wlist = []\n",
    "for ff in data:\n",
    "    wlist.append( HBox([Label(ff), data[ff]]) )\n",
    "widgets = VBox(wlist)\n",
    "#datalist['Chemo.second.Anthracycline']"
   ]
  },
  {
   "cell_type": "code",
   "execution_count": 6,
   "metadata": {},
   "outputs": [
    {
     "data": {
      "application/vnd.jupyter.widget-view+json": {
       "model_id": "6e44bea3519f4d3aa49b0603569b7169",
       "version_major": 2,
       "version_minor": 0
      },
      "text/plain": [
       "VBox(children=(HBox(children=(Label(value='Age.at.diagnosis'), IntSlider(value=48, continuous_update=False, ma…"
      ]
     },
     "metadata": {},
     "output_type": "display_data"
    },
    {
     "data": {
      "application/vnd.jupyter.widget-view+json": {
       "model_id": "8ef252c061434f32a0a2d33835d3de49",
       "version_major": 2,
       "version_minor": 0
      },
      "text/plain": [
       "Output()"
      ]
     },
     "metadata": {},
     "output_type": "display_data"
    }
   ],
   "source": [
    "display(widgets, ww)"
   ]
  },
  {
   "cell_type": "markdown",
   "metadata": {},
   "source": [
    "The result is a response score, illustrated with a **black star** on the graph. \n",
    "\n",
    "**For comparison**, the score is shown overlaid on top of a **bar plot** representing the scores from the external cohort used to validate the model. Changing the values of the predictive features of the case being evaluated will therefore make the black star move across the bar plot."
   ]
  },
  {
   "cell_type": "code",
   "execution_count": null,
   "metadata": {},
   "outputs": [],
   "source": []
  }
 ],
 "metadata": {
  "kernelspec": {
   "display_name": "Python 3",
   "language": "python",
   "name": "python3"
  },
  "language_info": {
   "codemirror_mode": {
    "name": "ipython",
    "version": 3
   },
   "file_extension": ".py",
   "mimetype": "text/x-python",
   "name": "python",
   "nbconvert_exporter": "python",
   "pygments_lexer": "ipython3",
   "version": "3.7.3"
  }
 },
 "nbformat": 4,
 "nbformat_minor": 2
}
