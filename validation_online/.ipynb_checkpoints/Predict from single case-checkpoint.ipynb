{
 "cells": [
  {
   "cell_type": "code",
   "execution_count": 1,
   "metadata": {},
   "outputs": [],
   "source": [
    "%load_ext autoreload\n",
    "%autoreload 2"
   ]
  },
  {
   "cell_type": "code",
   "execution_count": 2,
   "metadata": {},
   "outputs": [],
   "source": [
    "from run_model import plotHistogram\n",
    "import matplotlib.pyplot as plt\n",
    "from ipywidgets import interact"
   ]
  },
  {
   "cell_type": "code",
   "execution_count": 3,
   "metadata": {},
   "outputs": [],
   "source": [
    "data = {}\n",
    "data[  'Age.at.diagnosis'            ] = 48\n",
    "data[  'Histology'                   ] = 1\n",
    "data[  'ER.status'                   ] = 1\n",
    "data[  'HER2.status'                 ] = -1\n",
    "data[  'LN.at.diagnosis'             ] = 1\n",
    "data[  'Grade.pre.chemotherapy'      ] = 2\n",
    "data[  'Size.at.diagnosis'           ] = 21\n",
    "data[  'All.TMB'                     ] = 24\n",
    "data[  'Coding.TMB'                  ] = 14\n",
    "data[  'Expressed.NAg'               ] = 2\n",
    "data[  'CodingMuts.PIK3CA'           ] = 0\n",
    "data[  'CodingMuts.TP53'             ] = 0\n",
    "data[  'CIN.Prop'                    ] = 0.277264442\n",
    "data[  'HLA.LOH'                     ] = 0.0\n",
    "data[  'HRD.sum'                     ] = 21\n",
    "data[  'STAT1.ssgsea.notnorm'        ] = 17411.053\n",
    "data[  'GGI.ssgsea.notnorm'          ] = 21226.921000000002\n",
    "data[  'ESC.ssgsea.notnorm'          ] = 23874.241\n",
    "data[  'PGR.log2.tpm'                ] = 4.09\n",
    "data[  'ESR1.log2.tpm'               ] = 5.86\n",
    "data[  'ERBB2.log2.tpm'              ] = 6.2360000000000015\n",
    "data[  'CytScore.log2'               ] = 1.419\n",
    "data[  'Swanton.PaclitaxelScore'     ] = -2.0957223959999998\n",
    "data[  'TIDE.Dysfunction'            ] = -0.86\n",
    "data[  'TIDE.Exclusion'              ] = 0.73\n",
    "data[  'Danaher.Mast.cells'          ] = 4.694\n",
    "data[  'median_lymph_KDE_knn_50'     ] = -3.767925\n",
    "data[  'Chemo.NumCycles'             ] = 0\n",
    "data[  'Chemo.first.Taxane'          ] = 0\n",
    "data[  'Chemo.first.Anthracycline'   ] = 0\n",
    "data[  'Chemo.second.Taxane'         ] = 0\n",
    "data[  'Chemo.second.Anthracycline'  ] = 0\n",
    "data[  'Chemo.any.Anthracycline'     ] = 0\n",
    "data[  'Chemo.any.antiHER2'          ] = 0"
   ]
  },
  {
   "cell_type": "code",
   "execution_count": 4,
   "metadata": {},
   "outputs": [
    {
     "name": "stdout",
     "output_type": "stream",
     "text": [
      "Adding brackets\n"
     ]
    },
    {
     "data": {
      "image/png": "[encoded data removed]",
      "text/plain": [
       "<Figure size 864x360 with 1 Axes>"
      ]
     },
     "metadata": {
      "needs_background": "light"
     },
     "output_type": "display_data"
    }
   ],
   "source": [
    "plotHistogram(data)"
   ]
  },
  {
   "cell_type": "markdown",
   "metadata": {},
   "source": [
    "TO do: \n",
    "- Add label with score"
   ]
  },
  {
   "cell_type": "code",
   "execution_count": null,
   "metadata": {},
   "outputs": [],
   "source": []
  }
 ],
 "metadata": {
  "kernelspec": {
   "display_name": "Python 3",
   "language": "python",
   "name": "python3"
  },
  "language_info": {
   "codemirror_mode": {
    "name": "ipython",
    "version": 3
   },
   "file_extension": ".py",
   "mimetype": "text/x-python",
   "name": "python",
   "nbconvert_exporter": "python",
   "pygments_lexer": "ipython3",
   "version": "3.7.3"
  }
 },
 "nbformat": 4,
 "nbformat_minor": 2
}
